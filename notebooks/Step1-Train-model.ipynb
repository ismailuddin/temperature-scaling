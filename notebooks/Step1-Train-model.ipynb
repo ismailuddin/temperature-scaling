{
 "cells": [
  {
   "cell_type": "code",
   "execution_count": 1,
   "metadata": {},
   "outputs": [],
   "source": [
    "%matplotlib inline\n",
    "%load_ext lab_black\n",
    "%load_ext autoreload\n",
    "%autoreload 2"
   ]
  },
  {
   "cell_type": "code",
   "execution_count": 81,
   "metadata": {},
   "outputs": [],
   "source": [
    "import random\n",
    "import numpy as np\n",
    "import pandas as pd\n",
    "import matplotlib.pyplot as plt\n",
    "import seaborn as sns\n",
    "import uuid"
   ]
  },
  {
   "cell_type": "code",
   "execution_count": 55,
   "metadata": {},
   "outputs": [],
   "source": [
    "import tensorflow as tf"
   ]
  },
  {
   "cell_type": "code",
   "execution_count": 84,
   "metadata": {},
   "outputs": [],
   "source": [
    "# MODEL_ID = str(uuid.uuid4())[:5].upper()\n",
    "MODEL_ID = \"DC274\""
   ]
  },
  {
   "cell_type": "code",
   "execution_count": 56,
   "metadata": {},
   "outputs": [],
   "source": [
    "LEARNING_RATE = 1e-2\n",
    "BATCH_SIZE = 32\n",
    "N_EPOCHS = 25\n",
    "MOMENTUM = 0.9"
   ]
  },
  {
   "cell_type": "code",
   "execution_count": 60,
   "metadata": {},
   "outputs": [],
   "source": [
    "((X_train, y_train), (X_test, y_test)) = tf.keras.datasets.fashion_mnist.load_data()\n",
    "X_train = X_train[:, :, :, np.newaxis]\n",
    "X_test = X_test[:, :, :, np.newaxis]\n",
    "y_train = tf.keras.utils.to_categorical(y_train)\n",
    "y_test = tf.keras.utils.to_categorical(y_test)"
   ]
  },
  {
   "cell_type": "markdown",
   "metadata": {},
   "source": [
    "Model is defined without final softmax layer, so as to have access to logits directly"
   ]
  },
  {
   "cell_type": "code",
   "execution_count": 62,
   "metadata": {},
   "outputs": [],
   "source": [
    "class MiniVGGNet:\n",
    "    def build_model(self, width: int, height: int, depth: int, n_classes: int):\n",
    "        input_shape = (width, height, depth)\n",
    "        model = tf.keras.models.Sequential(\n",
    "            [\n",
    "                tf.keras.layers.Conv2D(\n",
    "                    32, (3, 3), padding=\"same\", input_shape=input_shape\n",
    "                ),\n",
    "                tf.keras.layers.Activation(\"relu\"),\n",
    "                tf.keras.layers.BatchNormalization(axis=-1),\n",
    "                tf.keras.layers.Conv2D(32, (3, 3), padding=\"same\"),\n",
    "                tf.keras.layers.Activation(\"relu\"),\n",
    "                tf.keras.layers.BatchNormalization(axis=-1),\n",
    "                tf.keras.layers.MaxPooling2D(pool_size=(2, 2)),\n",
    "                tf.keras.layers.Dropout(0.25),\n",
    "                # Second block\n",
    "                tf.keras.layers.Conv2D(32, (3, 3), padding=\"same\"),\n",
    "                tf.keras.layers.Activation(\"relu\"),\n",
    "                tf.keras.layers.BatchNormalization(axis=-1),\n",
    "                tf.keras.layers.Conv2D(32, (3, 3), padding=\"same\"),\n",
    "                tf.keras.layers.Activation(\"relu\"),\n",
    "                tf.keras.layers.BatchNormalization(axis=-1),\n",
    "                tf.keras.layers.MaxPooling2D(pool_size=(2, 2)),\n",
    "                tf.keras.layers.Dropout(0.25),\n",
    "                # Final block\n",
    "                tf.keras.layers.Flatten(),\n",
    "                tf.keras.layers.Dense(512),\n",
    "                tf.keras.layers.Activation(\"relu\"),\n",
    "                tf.keras.layers.BatchNormalization(),\n",
    "                tf.keras.layers.Dropout(0.5),\n",
    "                # Output\n",
    "                tf.keras.layers.Dense(n_classes),\n",
    "            ]\n",
    "        )\n",
    "        return model"
   ]
  },
  {
   "cell_type": "code",
   "execution_count": 63,
   "metadata": {},
   "outputs": [],
   "source": [
    "model = MiniVGGNet().build_model(width=28, height=28, depth=1, n_classes=10)\n",
    "sgd = tf.optimizers.SGD(\n",
    "    learning_rate=LEARNING_RATE, momentum=MOMENTUM, decay=LEARNING_RATE / N_EPOCHS\n",
    ")\n",
    "model.compile(\n",
    "    optimizer=sgd,\n",
    "    loss=tf.keras.losses.CategoricalCrossentropy(from_logits=True),\n",
    "    metrics=[\"accuracy\"],\n",
    ")"
   ]
  },
  {
   "cell_type": "code",
   "execution_count": 64,
   "metadata": {},
   "outputs": [],
   "source": [
    "# model.fit(X_train, y_train, batch_size=BATCH_SIZE, epochs=N_EPOCHS, validation_data=(X_test, y_test))"
   ]
  },
  {
   "cell_type": "code",
   "execution_count": 87,
   "metadata": {},
   "outputs": [],
   "source": [
    "model.save_weights(f\"../models/model_{MODEL_ID}_weights.h5\", save_format=\"h5\")"
   ]
  },
  {
   "cell_type": "code",
   "execution_count": 85,
   "metadata": {},
   "outputs": [
    {
     "name": "stdout",
     "output_type": "stream",
     "text": [
      "WARNING:tensorflow:From /Users/iuddin/anaconda3/lib/python3.6/site-packages/tensorflow/python/ops/resource_variable_ops.py:1817: calling BaseResourceVariable.__init__ (from tensorflow.python.ops.resource_variable_ops) with constraint is deprecated and will be removed in a future version.\n",
      "Instructions for updating:\n",
      "If using Keras pass *_constraint arguments to layers.\n"
     ]
    },
    {
     "name": "stderr",
     "output_type": "stream",
     "text": [
      "WARNING:tensorflow:From /Users/iuddin/anaconda3/lib/python3.6/site-packages/tensorflow/python/ops/resource_variable_ops.py:1817: calling BaseResourceVariable.__init__ (from tensorflow.python.ops.resource_variable_ops) with constraint is deprecated and will be removed in a future version.\n",
      "Instructions for updating:\n",
      "If using Keras pass *_constraint arguments to layers.\n"
     ]
    },
    {
     "name": "stdout",
     "output_type": "stream",
     "text": [
      "INFO:tensorflow:Assets written to: ../models/model_DC274/assets\n"
     ]
    },
    {
     "name": "stderr",
     "output_type": "stream",
     "text": [
      "INFO:tensorflow:Assets written to: ../models/model_DC274/assets\n"
     ]
    }
   ],
   "source": [
    "model.save(f\"../models/model_{MODEL_ID}\")"
   ]
  },
  {
   "cell_type": "code",
   "execution_count": 89,
   "metadata": {},
   "outputs": [],
   "source": [
    "model.load_weights(\"../models/model_DC274_weights.h5\")"
   ]
  },
  {
   "cell_type": "code",
   "execution_count": 90,
   "metadata": {},
   "outputs": [
    {
     "name": "stdout",
     "output_type": "stream",
     "text": [
      "313/313 - 3s - loss: 0.1932 - accuracy: 0.9280\n"
     ]
    },
    {
     "data": {
      "text/plain": [
       "[0.19322136044502258, 0.9279999732971191]"
      ]
     },
     "execution_count": 90,
     "metadata": {},
     "output_type": "execute_result"
    }
   ],
   "source": [
    "model.evaluate(X_test, y_test, verbose=2)"
   ]
  },
  {
   "cell_type": "markdown",
   "metadata": {},
   "source": [
    "Probability model can be created by created a new model and adding a softmax layer at the end:"
   ]
  },
  {
   "cell_type": "code",
   "execution_count": 91,
   "metadata": {},
   "outputs": [],
   "source": [
    "prob_model = tf.keras.models.Sequential([model, tf.keras.layers.Softmax()])"
   ]
  }
 ],
 "metadata": {
  "kernelspec": {
   "display_name": "Python 3",
   "language": "python",
   "name": "python3"
  },
  "language_info": {
   "codemirror_mode": {
    "name": "ipython",
    "version": 3
   },
   "file_extension": ".py",
   "mimetype": "text/x-python",
   "name": "python",
   "nbconvert_exporter": "python",
   "pygments_lexer": "ipython3",
   "version": "3.6.8"
  }
 },
 "nbformat": 4,
 "nbformat_minor": 2
}